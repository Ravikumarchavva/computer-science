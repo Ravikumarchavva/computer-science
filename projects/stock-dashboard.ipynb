{
 "cells": [
  {
   "cell_type": "markdown",
   "id": "7533a48d",
   "metadata": {},
   "source": [
    "# Stock Dashboard Project\\n\n",
    "Create an interactive financial data visualization dashboard using Python and popular data libraries."
   ]
  },
  {
   "cell_type": "markdown",
   "id": "676614e9",
   "metadata": {},
   "source": [
    "## Project Overview\\n\n",
    "This project demonstrates data analysis, visualization, and web development skills by building a dashboard that displays stock market data with interactive charts and analysis."
   ]
  },
  {
   "cell_type": "code",
   "execution_count": null,
   "id": "e0e1fff8",
   "metadata": {},
   "outputs": [],
   "source": [
    "# Import required libraries\\n\n",
    "import pandas as pd\\n\n",
    "import numpy as np\\n\n",
    "import matplotlib.pyplot as plt\\n\n",
    "import seaborn as sns\\n\n",
    "import yfinance as yf\\n\n",
    "from datetime import datetime, timedelta\\n\n",
    "import plotly.graph_objects as go\\n\n",
    "import plotly.express as px\\n\n",
    "from plotly.subplots import make_subplots\\n\n",
    "import warnings\\n\n",
    "warnings.filterwarnings('ignore')\\n\n",
    "\\n\n",
    "# Set style for matplotlib\\n\n",
    "plt.style.use('seaborn-v0_8')\\n\n",
    "sns.set_palette('husl')"
   ]
  },
  {
   "cell_type": "code",
   "execution_count": null,
   "id": "ac9b0e33",
   "metadata": {},
   "outputs": [],
   "source": [
    "# Function to fetch stock data\\n\n",
    "def get_stock_data(symbol, period='1y'):\\n\n",
    "    \\\"\\\"\\\"\\n\n",
    "    Fetch historical stock data using yfinance\\n\n",
    "    \\\"\\\"\\\"\\n\n",
    "    try:\\n\n",
    "        stock = yf.Ticker(symbol)\\n\n",
    "        data = stock.history(period=period)\\n\n",
    "        return data\\n\n",
    "    except Exception as e:\\n\n",
    "        print(f'Error fetching data for {symbol}: {e}')\\n\n",
    "        return None"
   ]
  },
  {
   "cell_type": "code",
   "execution_count": null,
   "id": "7cb31770",
   "metadata": {},
   "outputs": [],
   "source": [
    "# Function to calculate technical indicators\\n\n",
    "def calculate_indicators(data):\\n\n",
    "    \\\"\\\"\\\"\\n\n",
    "    Calculate basic technical indicators\\n\n",
    "    \\\"\\\"\\\"\\n\n",
    "    # Simple Moving Averages\\n\n",
    "    data['SMA_20'] = data['Close'].rolling(window=20).mean()\\n\n",
    "    data['SMA_50'] = data['Close'].rolling(window=50).mean()\\n\n",
    "    \\n\n",
    "    # Exponential Moving Average\\n\n",
    "    data['EMA_20'] = data['Close'].ewm(span=20).mean()\\n\n",
    "    \\n\n",
    "    # Relative Strength Index (RSI)\\n\n",
    "    delta = data['Close'].diff()\\n\n",
    "    gain = (delta.where(delta > 0, 0)).rolling(window=14).mean()\\n\n",
    "    loss = (-delta.where(delta < 0, 0)).rolling(window=14).mean()\\n\n",
    "    rs = gain / loss\\n\n",
    "    data['RSI'] = 100 - (100 / (1 + rs))\\n\n",
    "    \\n\n",
    "    # Bollinger Bands\\n\n",
    "    data['BB_middle'] = data['Close'].rolling(window=20).mean()\\n\n",
    "    data['BB_upper'] = data['BB_middle'] + 2 * data['Close'].rolling(window=20).std()\\n\n",
    "    data['BB_lower'] = data['BB_middle'] - 2 * data['Close'].rolling(window=20).std()\\n\n",
    "    \\n\n",
    "    return data"
   ]
  },
  {
   "cell_type": "code",
   "execution_count": null,
   "id": "c8b83fcf",
   "metadata": {},
   "outputs": [],
   "source": [
    "# Function to create interactive chart\\n\n",
    "def create_interactive_chart(data, symbol):\\n\n",
    "    \\\"\\\"\\\"\\n\n",
    "    Create interactive candlestick chart with technical indicators\\n\n",
    "    \\\"\\\"\\\"\\n\n",
    "    fig = make_subplots(rows=2, cols=1, shared_xaxes=True, \\n\n",
    "                        vertical_spacing=0.1, subplot_titles=(f'{symbol} Price', 'Volume'), \\n\n",
    "                        row_width=[0.7, 0.3])\\n\n",
    "    \\n\n",
    "    # Candlestick chart\\n\n",
    "    fig.add_trace(go.Candlestick(x=data.index, open=data['Open'], high=data['High'],\\n\n",
    "                                 low=data['Low'], close=data['Close'], name='Price'),\\n\n",
    "                  row=1, col=1)\\n\n",
    "    \\n\n",
    "    # Add moving averages\\n\n",
    "    fig.add_trace(go.Scatter(x=data.index, y=data['SMA_20'], line=dict(color='blue', width=1),\\n\n",
    "                             name='SMA 20'), row=1, col=1)\\n\n",
    "    fig.add_trace(go.Scatter(x=data.index, y=data['SMA_50'], line=dict(color='red', width=1),\\n\n",
    "                             name='SMA 50'), row=1, col=1)\\n\n",
    "    \\n\n",
    "    # Volume chart\\n\n",
    "    fig.add_trace(go.Bar(x=data.index, y=data['Volume'], name='Volume', marker_color='lightblue'),\\n\n",
    "                  row=2, col=1)\\n\n",
    "    \\n\n",
    "    fig.update_layout(title=f'{symbol} Stock Analysis',\\n\n",
    "                      yaxis_title='Price ($)',\\n\n",
    "                      xaxis_rangeslider_visible=False)\\n\n",
    "    \\n\n",
    "    return fig"
   ]
  },
  {
   "cell_type": "code",
   "execution_count": null,
   "id": "d3ab5b58",
   "metadata": {},
   "outputs": [],
   "source": [
    "# Example usage\\n\n",
    "# symbol = 'AAPL'\\n\n",
    "# data = get_stock_data(symbol)\\n\n",
    "# if data is not None:\\n\n",
    "#     data = calculate_indicators(data)\\n\n",
    "#     fig = create_interactive_chart(data, symbol)\\n\n",
    "#     fig.show()\\n\n",
    "print('Stock Dashboard functions defined. Uncomment the example code to run with real data.')"
   ]
  }
 ],
 "metadata": {
  "language_info": {
   "name": "python"
  }
 },
 "nbformat": 4,
 "nbformat_minor": 5
}
