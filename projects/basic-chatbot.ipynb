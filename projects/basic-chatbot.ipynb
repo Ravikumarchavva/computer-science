{
 "cells": [
  {
   "cell_type": "markdown",
   "id": "3da28fd7",
   "metadata": {},
   "source": [
    "# Basic Chatbot Project\\n\n",
    "Build a simple conversational AI assistant using pattern matching and basic NLP techniques."
   ]
  },
  {
   "cell_type": "markdown",
   "id": "01765492",
   "metadata": {},
   "source": [
    "## Project Overview\\n\n",
    "This project demonstrates fundamental concepts in natural language processing and conversational AI by creating a rule-based chatbot that can handle basic conversations."
   ]
  },
  {
   "cell_type": "code",
   "execution_count": null,
   "id": "fd74b29b",
   "metadata": {},
   "outputs": [],
   "source": [
    "# Import required libraries\\n\n",
    "import re\\n\n",
    "import random\\n\n",
    "from datetime import datetime"
   ]
  },
  {
   "cell_type": "code",
   "execution_count": null,
   "id": "70b51c10",
   "metadata": {},
   "outputs": [],
   "source": [
    "# Define response patterns and replies\\n\n",
    "responses = {\\n\n",
    "    'greeting': ['Hello!', 'Hi there!', 'Hey!', 'Greetings!'],\\n\n",
    "    'goodbye': ['Goodbye!', 'See you later!', 'Farewell!', 'Take care!'],\\n\n",
    "    'thanks': ['You\\'re welcome!', 'No problem!', 'Happy to help!', 'My pleasure!'],\\n\n",
    "    'name': ['I\\'m a simple chatbot.', 'You can call me ChatBot.', 'I\\'m your AI assistant.'],\\n\n",
    "    'time': ['The current time is ' + str(datetime.now().strftime('%H:%M')), 'It\\'s ' + str(datetime.now().strftime('%I:%M %p'))],\\n\n",
    "    'default': ['I\\'m not sure I understand.', 'Could you rephrase that?', 'Tell me more about that.']\\n\n",
    "}"
   ]
  },
  {
   "cell_type": "code",
   "execution_count": null,
   "id": "125b88cb",
   "metadata": {},
   "outputs": [],
   "source": [
    "# Simple pattern matching function\\n\n",
    "def get_response(user_input):\\n\n",
    "    user_input = user_input.lower()\\n\n",
    "    \\n\n",
    "    if re.search(r'\\\\b(hello|hi|hey|greetings)\\\\b', user_input):\\n\n",
    "        return random.choice(responses['greeting'])\\n\n",
    "    elif re.search(r'\\\\b(bye|goodbye|see you|farewell)\\\\b', user_input):\\n\n",
    "        return random.choice(responses['goodbye'])\\n\n",
    "    elif re.search(r'\\\\b(thank|thanks)\\\\b', user_input):\\n\n",
    "        return random.choice(responses['thanks'])\\n\n",
    "    elif re.search(r'\\\\b(name|who are you)\\\\b', user_input):\\n\n",
    "        return random.choice(responses['name'])\\n\n",
    "    elif re.search(r'\\\\b(time|what time)\\\\b', user_input):\\n\n",
    "        return random.choice(responses['time'])\\n\n",
    "    else:\\n\n",
    "        return random.choice(responses['default'])"
   ]
  },
  {
   "cell_type": "code",
   "execution_count": null,
   "id": "5304ed31",
   "metadata": {},
   "outputs": [],
   "source": [
    "# Main chat loop\\n\n",
    "def chat():\\n\n",
    "    print('ChatBot: Hello! I\\'m a simple chatbot. Type \"quit\" to exit.')\\n\n",
    "    \\n\n",
    "    while True:\\n\n",
    "        user_input = input('You: ')\\n\n",
    "        if user_input.lower() == 'quit':\\n\n",
    "            print('ChatBot: Goodbye!')\\n\n",
    "            break\\n\n",
    "        \\n\n",
    "        response = get_response(user_input)\\n\n",
    "        print(f'ChatBot: {response}')\\n\n",
    "\\n\n",
    "# Uncomment to run the chatbot\\n\n",
    "# chat()"
   ]
  }
 ],
 "metadata": {
  "language_info": {
   "name": "python"
  }
 },
 "nbformat": 4,
 "nbformat_minor": 5
}
